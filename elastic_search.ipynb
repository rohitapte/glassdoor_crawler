{
 "cells": [
  {
   "cell_type": "markdown",
   "id": "be86a94a",
   "metadata": {},
   "source": [
    "#### search elastic search\n",
    "\n",
    "### see https://www.elastic.co/guide/en/elasticsearch/reference/current/query-dsl-multi-match-query.html"
   ]
  },
  {
   "cell_type": "code",
   "execution_count": 1,
   "id": "34de2654",
   "metadata": {},
   "outputs": [
    {
     "name": "stdout",
     "output_type": "stream",
     "text": [
      "Total hits: 160\n",
      "-------------------------\n",
      "{'company': 'Blackrock', 'rating': '4.0', 'pros': 'They focus on career growth of their employees and welfare\\r\\nGood benefits', 'cons': 'diversity and inclusion not much', 'adviceManagement': '', 'dateReviewed': '5 May 2021', 'authorInfo': 'Associate', 'authorLocation': ''}\n",
      "\n",
      "{'company': 'Facebook', 'rating': '4.0', 'pros': 'Stellar benefits\\r\\nHigh visibility work\\r\\nAwesome co-workers', 'cons': 'Management struggles with diversity and inclusion', 'adviceManagement': '', 'dateReviewed': '11 May 2021', 'authorInfo': 'Product Manager', 'authorLocation': 'Seattle, WA'}\n",
      "\n",
      "{'company': 'Facebook', 'rating': '2.0', 'pros': 'Salary is quite high for this role.', 'cons': 'Diversity / Inclusion is a real problem.', 'adviceManagement': '', 'dateReviewed': '8 May 2019', 'authorInfo': 'Anonymous Employee', 'authorLocation': ''}\n",
      "\n",
      "{'company': 'Facebook', 'rating': '4.0', 'pros': 'Culture, diversity & inclusion, benefits', 'cons': 'Internal moves are harder than expected', 'adviceManagement': '', 'dateReviewed': '2 Apr 2021', 'authorInfo': 'Market Specialist', 'authorLocation': 'Dublin, Dublin'}\n",
      "\n",
      "{'company': 'Blackrock', 'rating': '3.0', 'pros': 'Resources to develop investment/coding skillset, Knowledgeable sector specialists, Exit Opportunities, Hours are reasonable for the industry', 'cons': \"Compensation isn't competitive, Lack of diversity in management and other issues regarding diversity/inclusion, Inability to retain junior talent\", 'adviceManagement': '', 'dateReviewed': '7 Mar 2021', 'authorInfo': 'Investment Analyst', 'authorLocation': 'New York, NY'}\n",
      "\n",
      "{'company': 'Amazon', 'rating': '5.0', 'pros': 'people, technology, diversity and inclusion', 'cons': 'some poor managers about, tech people that arent managers', 'adviceManagement': '', 'dateReviewed': '22 Oct 2020', 'authorInfo': 'Principal Architect', 'authorLocation': 'Sydney'}\n",
      "\n",
      "{'company': 'Amazon', 'rating': '5.0', 'pros': 'Awesome, transparent, inclusion and diversity', 'cons': \"I don't see any of cons\", 'adviceManagement': '', 'dateReviewed': '6 Mar 2020', 'authorInfo': 'Customer Service Associate', 'authorLocation': 'Noida'}\n",
      "\n",
      "{'company': 'Facebook', 'rating': '5.0', 'pros': 'Great benefits, diversity and inclusion', 'cons': 'No food reimbursement working from home, even though food was one of the great benefits while working at the office', 'adviceManagement': '', 'dateReviewed': '11 May 2021', 'authorInfo': 'Legal Tdr Specialist', 'authorLocation': 'Sunnyvale, CA'}\n",
      "\n",
      "{'company': 'Facebook', 'rating': '4.0', 'pros': 'Growth opportunity, diversity and inclusion.', 'cons': 'work life balance, reorg happens too often', 'adviceManagement': '', 'dateReviewed': '16 Feb 2021', 'authorInfo': 'Art Director', 'authorLocation': 'San Francisco, CA'}\n",
      "\n",
      "{'company': 'Johnson-and-Johnson', 'rating': '4.0', 'pros': 'Good culture, diversity and inclusion', 'cons': 'Too big and slow to innovate', 'adviceManagement': '', 'dateReviewed': '24 Apr 2021', 'authorInfo': 'Vice President', 'authorLocation': 'High Wycombe, England, England'}\n",
      "\n"
     ]
    }
   ],
   "source": [
    "import requests\n",
    "import json\n",
    "\n",
    "#see https://www.elastic.co/guide/en/elasticsearch/reference/current/query-dsl-multi-match-query.html\n",
    "\n",
    "url = \"http://13.52.183.126:9255/glassdoor_reviews/_search\"\n",
    "\n",
    "payload = json.dumps({\n",
    "  \"query\": {\n",
    "    \"multi_match\": {\n",
    "      \"query\": \"diversity inclusion\",\n",
    "      \"fields\" : [ \"pros\",\"cons\" ],\n",
    "        \"operator\":   \"and\"\n",
    "    }\n",
    "  }\n",
    "})\n",
    "headers = {\n",
    "  'Content-Type': 'application/json'\n",
    "}\n",
    "\n",
    "response = requests.request(\"POST\", url, headers=headers, data=payload)\n",
    "if response.status_code==200:\n",
    "    data=json.loads(response.text)\n",
    "    print('Total hits: ' + str(data['hits']['total']['value']))\n",
    "    print('-------------------------')\n",
    "    for item in data['hits']['hits']:\n",
    "        print(item['_source'])\n",
    "        print('')\n",
    "else:\n",
    "    print('error fetching data')\n",
    "    print(response.text)"
   ]
  },
  {
   "cell_type": "markdown",
   "id": "455a71b8",
   "metadata": {},
   "source": [
    "### Load word2vec saved model (the models are saved in the root directory)"
   ]
  },
  {
   "cell_type": "code",
   "execution_count": 7,
   "id": "2c07a1f7",
   "metadata": {},
   "outputs": [],
   "source": [
    "from gensim.models import Word2Vec \n",
    "model = Word2Vec.load(\"word2vec.model_50_3_1\")"
   ]
  },
  {
   "cell_type": "markdown",
   "id": "ea8e0674",
   "metadata": {},
   "source": [
    "### this is how you get the similar (thesaraus) words"
   ]
  },
  {
   "cell_type": "code",
   "execution_count": 8,
   "id": "f94b894c",
   "metadata": {},
   "outputs": [
    {
     "data": {
      "text/plain": [
       "[('inclusion', 0.7531678676605225),\n",
       " ('teamwork', 0.7366514205932617),\n",
       " ('empowerment', 0.7191998362541199),\n",
       " ('transparency', 0.7103386521339417),\n",
       " ('professionalism', 0.7089841961860657),\n",
       " ('collaboration', 0.6810402274131775),\n",
       " ('cultural', 0.6662629842758179),\n",
       " ('genuine', 0.6645629405975342),\n",
       " ('empathy', 0.6524288654327393),\n",
       " ('openness', 0.6520794034004211)]"
      ]
     },
     "execution_count": 8,
     "metadata": {},
     "output_type": "execute_result"
    }
   ],
   "source": [
    "model.wv.most_similar('diversity', topn=10)"
   ]
  },
  {
   "cell_type": "markdown",
   "id": "d4cf369e",
   "metadata": {},
   "source": [
    "### get the related words down a search tree upto depth 2"
   ]
  },
  {
   "cell_type": "code",
   "execution_count": 24,
   "id": "80beb96b",
   "metadata": {},
   "outputs": [],
   "source": [
    "from collections import defaultdict\n",
    "def get_related_words(word, size=10):\n",
    "    return_dict=defaultdict(int)\n",
    "    similar_words=model.wv.most_similar(word, topn=size)\n",
    "    for w in similar_words:\n",
    "        return_dict[w[0]]=1\n",
    "        for subword in model.wv.most_similar(w[0], topn=size):\n",
    "            return_dict[subword[0]]=1\n",
    "    return [k for k in return_dict]\n",
    "all_words=get_related_words('diversity')"
   ]
  },
  {
   "cell_type": "code",
   "execution_count": 25,
   "id": "3306d28a",
   "metadata": {},
   "outputs": [
    {
     "data": {
      "text/plain": [
       "['inclusion',\n",
       " 'openness',\n",
       " 'diversity',\n",
       " 'empowerment',\n",
       " 'cultural',\n",
       " 'inexcusable',\n",
       " 'equality',\n",
       " 'sustainability',\n",
       " 'honesty',\n",
       " 'teamwork',\n",
       " 'morals',\n",
       " 'collaboration',\n",
       " 'camaraderie',\n",
       " 'cooperation',\n",
       " 'mentorship',\n",
       " 'ambience',\n",
       " 'transparency',\n",
       " 'mentors',\n",
       " 'engagement',\n",
       " 'professionalism',\n",
       " 'involvement',\n",
       " 'autonomy',\n",
       " 'dedication',\n",
       " 'intellectual',\n",
       " 'accountability',\n",
       " 'consistency',\n",
       " 'empathy',\n",
       " 'oversight',\n",
       " 'communications',\n",
       " 'micro-management',\n",
       " 'clarity',\n",
       " 'communication',\n",
       " 'integrity',\n",
       " 're-abuse',\n",
       " 'mnanagers',\n",
       " 'strutcure',\n",
       " 'infrastructure',\n",
       " 'alignment',\n",
       " 'informal',\n",
       " 'functionally',\n",
       " 'partnership',\n",
       " 'presence',\n",
       " 'diversified',\n",
       " 'multi',\n",
       " 'ethos',\n",
       " '-goodies',\n",
       " 'genuine',\n",
       " 'thoughtful',\n",
       " 'compassionate',\n",
       " 'caring',\n",
       " 'sincere',\n",
       " 'responsive',\n",
       " 'humble',\n",
       " 'seasoned',\n",
       " 'polite',\n",
       " 'conscious',\n",
       " 'considerate',\n",
       " 'compassion',\n",
       " 'thereof',\n",
       " 'appreciation',\n",
       " 'gender',\n",
       " 'uniform',\n",
       " 'knowledge-sharing',\n",
       " 'inclusivity',\n",
       " '.thanks',\n",
       " 'inclusiveness',\n",
       " 'experimentation']"
      ]
     },
     "execution_count": 25,
     "metadata": {},
     "output_type": "execute_result"
    }
   ],
   "source": [
    "all_words"
   ]
  },
  {
   "cell_type": "code",
   "execution_count": null,
   "id": "d4fe79b4",
   "metadata": {},
   "outputs": [],
   "source": []
  }
 ],
 "metadata": {
  "kernelspec": {
   "display_name": "Python 3",
   "language": "python",
   "name": "python3"
  },
  "language_info": {
   "codemirror_mode": {
    "name": "ipython",
    "version": 3
   },
   "file_extension": ".py",
   "mimetype": "text/x-python",
   "name": "python",
   "nbconvert_exporter": "python",
   "pygments_lexer": "ipython3",
   "version": "3.9.1"
  }
 },
 "nbformat": 4,
 "nbformat_minor": 5
}
